{
 "cells": [
  {
   "attachments": {},
   "cell_type": "markdown",
   "id": "d868287a-db65-48a9-97dc-d984c5d06311",
   "metadata": {},
   "source": [
    "In this script we do following for query logs of Bio2rdf and wikidata:\n",
    "\n",
    "1. We retive query logs \n",
    "2. We remove queries that contain \"http://nonsensical\" \n",
    "3. We remove VALUES section of the queries\n",
    "4. We remove spaces/new lines with a parralel programing\n",
    "5. We convert dataset to .tsv.gzip\n"
   ]
  },
  {
   "cell_type": "code",
   "execution_count": 7,
   "id": "595602e9-dc9e-474b-acd1-1ce15b999e88",
   "metadata": {},
   "outputs": [
    {
     "data": {
      "text/plain": [
       "1743314875"
      ]
     },
     "execution_count": 7,
     "metadata": {},
     "output_type": "execute_result"
    }
   ],
   "source": [
    "import requests\n",
    "\n",
    "URL = \"https://download.dumontierlab.com/bio2rdf/logs/bio2rdf_sparql_logs_processed_01-2019_to_07-2021.csv\"\n",
    "response = requests.get(URL)\n",
    "open(\"bio2rdf-processed.csv\", \"wb\").write(response.content)"
   ]
  },
  {
   "cell_type": "code",
   "execution_count": 19,
   "id": "5d0f23eb-02ba-4df0-86eb-1bca8f70a779",
   "metadata": {},
   "outputs": [
    {
     "name": "stderr",
     "output_type": "stream",
     "text": [
      "/opt/conda/lib/python3.8/site-packages/IPython/core/interactiveshell.py:3169: DtypeWarning: Columns (1,2,3) have mixed types.Specify dtype option on import or set low_memory=False.\n",
      "  has_raised = await self.run_ast_nodes(code_ast.body, cell_name,\n"
     ]
    },
    {
     "data": {
      "text/html": [
       "<div>\n",
       "<style scoped>\n",
       "    .dataframe tbody tr th:only-of-type {\n",
       "        vertical-align: middle;\n",
       "    }\n",
       "\n",
       "    .dataframe tbody tr th {\n",
       "        vertical-align: top;\n",
       "    }\n",
       "\n",
       "    .dataframe thead th {\n",
       "        text-align: right;\n",
       "    }\n",
       "</style>\n",
       "<table border=\"1\" class=\"dataframe\">\n",
       "  <thead>\n",
       "    <tr style=\"text-align: right;\">\n",
       "      <th></th>\n",
       "      <th>query</th>\n",
       "      <th>domain</th>\n",
       "      <th>agent</th>\n",
       "      <th>timestamp</th>\n",
       "    </tr>\n",
       "  </thead>\n",
       "  <tbody>\n",
       "    <tr>\n",
       "      <th>0</th>\n",
       "      <td>CONSTRUCT { ?s ?p ?o . } WHERE { SERVICE &lt;http...</td>\n",
       "      <td>bio2rdf.org</td>\n",
       "      <td>Umaka-Crawler/1.0.0 by DBCLS (umakadata@dbcls.jp)</td>\n",
       "      <td>2020-03-11T06:13:19.227Z</td>\n",
       "    </tr>\n",
       "    <tr>\n",
       "      <th>1</th>\n",
       "      <td>SELECT DISTINCT ?prefix WHERE { { SELECT DISTI...</td>\n",
       "      <td>bio2rdf.org</td>\n",
       "      <td>Umaka-Crawler/1.0.0 by DBCLS (umakadata@dbcls.jp)</td>\n",
       "      <td>2020-03-11T06:18:36.078Z</td>\n",
       "    </tr>\n",
       "    <tr>\n",
       "      <th>2</th>\n",
       "      <td>select * where {[] a ?Concept} LIMIT 100&amp;forma...</td>\n",
       "      <td>bio2rdf.org</td>\n",
       "      <td>Mozilla/5.0 (Windows NT 6.3; Win64; x64) Apple...</td>\n",
       "      <td>2020-03-11T13:48:04.625Z</td>\n",
       "    </tr>\n",
       "    <tr>\n",
       "      <th>3</th>\n",
       "      <td>With the advantages of utilizing a job recruit...</td>\n",
       "      <td>bio2rdf.org</td>\n",
       "      <td>Mozilla/5.0 (Windows NT 10.0; WOW64) AppleWebK...</td>\n",
       "      <td>2021-04-20T10:18:11.078Z</td>\n",
       "    </tr>\n",
       "    <tr>\n",
       "      <th>4</th>\n",
       "      <td>With the advantages of utilizing a job recruit...</td>\n",
       "      <td>bio2rdf.org</td>\n",
       "      <td>Mozilla/5.0 (Windows NT 10.0; WOW64) AppleWebK...</td>\n",
       "      <td>2021-04-20T10:18:11.132Z</td>\n",
       "    </tr>\n",
       "    <tr>\n",
       "      <th>...</th>\n",
       "      <td>...</td>\n",
       "      <td>...</td>\n",
       "      <td>...</td>\n",
       "      <td>...</td>\n",
       "    </tr>\n",
       "    <tr>\n",
       "      <th>6522692</th>\n",
       "      <td>SELECT ?it1 ?st1 ?p01 ?p11 ?p21 ?x31 ?p31 ?p32...</td>\n",
       "      <td>bio2rdf.org</td>\n",
       "      <td>Ruby</td>\n",
       "      <td>2019-02-27T03:23:26.079Z</td>\n",
       "    </tr>\n",
       "    <tr>\n",
       "      <th>6522693</th>\n",
       "      <td>SELECT ?it1 ?st1 ?p01 ?p11 ?p21 ?p31 ?x31 ?x32...</td>\n",
       "      <td>bio2rdf.org</td>\n",
       "      <td>Ruby</td>\n",
       "      <td>2019-02-27T03:23:26.492Z</td>\n",
       "    </tr>\n",
       "    <tr>\n",
       "      <th>6522694</th>\n",
       "      <td>SELECT ?it1 ?st1 ?p01 ?p11 ?p21 ?x31 ?p31 ?p32...</td>\n",
       "      <td>bio2rdf.org</td>\n",
       "      <td>Ruby</td>\n",
       "      <td>2019-02-27T03:23:26.630Z</td>\n",
       "    </tr>\n",
       "    <tr>\n",
       "      <th>6522695</th>\n",
       "      <td>SELECT ?it1 ?st1 ?p01 ?p11 ?p21 ?x31 ?p31 ?x32...</td>\n",
       "      <td>bio2rdf.org</td>\n",
       "      <td>Ruby</td>\n",
       "      <td>2019-02-27T03:23:26.878Z</td>\n",
       "    </tr>\n",
       "    <tr>\n",
       "      <th>6522696</th>\n",
       "      <td>SELECT ?it1 ?st1 ?p01 ?p11 ?p21 ?p31 ?x31 ?p32...</td>\n",
       "      <td>bio2rdf.org</td>\n",
       "      <td>Ruby</td>\n",
       "      <td>2019-02-27T03:23:27.049Z</td>\n",
       "    </tr>\n",
       "  </tbody>\n",
       "</table>\n",
       "<p>6522697 rows × 4 columns</p>\n",
       "</div>"
      ],
      "text/plain": [
       "                                                     query       domain  \\\n",
       "0        CONSTRUCT { ?s ?p ?o . } WHERE { SERVICE <http...  bio2rdf.org   \n",
       "1        SELECT DISTINCT ?prefix WHERE { { SELECT DISTI...  bio2rdf.org   \n",
       "2        select * where {[] a ?Concept} LIMIT 100&forma...  bio2rdf.org   \n",
       "3        With the advantages of utilizing a job recruit...  bio2rdf.org   \n",
       "4        With the advantages of utilizing a job recruit...  bio2rdf.org   \n",
       "...                                                    ...          ...   \n",
       "6522692  SELECT ?it1 ?st1 ?p01 ?p11 ?p21 ?x31 ?p31 ?p32...  bio2rdf.org   \n",
       "6522693  SELECT ?it1 ?st1 ?p01 ?p11 ?p21 ?p31 ?x31 ?x32...  bio2rdf.org   \n",
       "6522694  SELECT ?it1 ?st1 ?p01 ?p11 ?p21 ?x31 ?p31 ?p32...  bio2rdf.org   \n",
       "6522695  SELECT ?it1 ?st1 ?p01 ?p11 ?p21 ?x31 ?p31 ?x32...  bio2rdf.org   \n",
       "6522696  SELECT ?it1 ?st1 ?p01 ?p11 ?p21 ?p31 ?x31 ?p32...  bio2rdf.org   \n",
       "\n",
       "                                                     agent  \\\n",
       "0        Umaka-Crawler/1.0.0 by DBCLS (umakadata@dbcls.jp)   \n",
       "1        Umaka-Crawler/1.0.0 by DBCLS (umakadata@dbcls.jp)   \n",
       "2        Mozilla/5.0 (Windows NT 6.3; Win64; x64) Apple...   \n",
       "3        Mozilla/5.0 (Windows NT 10.0; WOW64) AppleWebK...   \n",
       "4        Mozilla/5.0 (Windows NT 10.0; WOW64) AppleWebK...   \n",
       "...                                                    ...   \n",
       "6522692                                               Ruby   \n",
       "6522693                                               Ruby   \n",
       "6522694                                               Ruby   \n",
       "6522695                                               Ruby   \n",
       "6522696                                               Ruby   \n",
       "\n",
       "                        timestamp  \n",
       "0        2020-03-11T06:13:19.227Z  \n",
       "1        2020-03-11T06:18:36.078Z  \n",
       "2        2020-03-11T13:48:04.625Z  \n",
       "3        2021-04-20T10:18:11.078Z  \n",
       "4        2021-04-20T10:18:11.132Z  \n",
       "...                           ...  \n",
       "6522692  2019-02-27T03:23:26.079Z  \n",
       "6522693  2019-02-27T03:23:26.492Z  \n",
       "6522694  2019-02-27T03:23:26.630Z  \n",
       "6522695  2019-02-27T03:23:26.878Z  \n",
       "6522696  2019-02-27T03:23:27.049Z  \n",
       "\n",
       "[6522697 rows x 4 columns]"
      ]
     },
     "execution_count": 19,
     "metadata": {},
     "output_type": "execute_result"
    }
   ],
   "source": [
    "import pandas as pd\n",
    "\n",
    "df=pd.read_csv('bio2rdf-processed.csv')\n",
    "df"
   ]
  },
  {
   "cell_type": "code",
   "execution_count": 3,
   "id": "21fe520a-9c35-4ac0-b4af-e0944d43bb71",
   "metadata": {},
   "outputs": [
    {
     "data": {
      "text/plain": [
       "6522697"
      ]
     },
     "execution_count": 3,
     "metadata": {},
     "output_type": "execute_result"
    }
   ],
   "source": [
    "len(df)"
   ]
  },
  {
   "cell_type": "code",
   "execution_count": 24,
   "id": "7235c78d-0d51-45c3-ae15-19c9e6cfb388",
   "metadata": {},
   "outputs": [
    {
     "name": "stdout",
     "output_type": "stream",
     "text": [
      "['bio2rdf.org' 'drugbank.bio2rdf.org' 'interpro.bio2rdf.org'\n",
      " 'taxonomy.bio2rdf.org' 'goa.bio2rdf.org' 'homologene.bio2rdf.org'\n",
      " 'wormbase.bio2rdf.org' 'mesh.bio2rdf.org' 'pharmgkb.bio2rdf.org'\n",
      " 'gendr.bio2rdf.org' 'hgnc.bio2rdf.org' 'clinicaltrials.bio2rdf.org'\n",
      " 'sider.bio2rdf.org' 'biomodels.bio2rdf.org' 'mgi.bio2rdf.org'\n",
      " 'kegg.bio2rdf.org' 'dbsnp.bio2rdf.org' 'ctd.bio2rdf.org'\n",
      " 'bioportal.bio2rdf.org' 'pubmed.bio2rdf.org' 'lsr.bio2rdf.org'\n",
      " 'ndc.bio2rdf.org' 'ncbigene.bio2rdf.org' 'sgd.bio2rdf.org'\n",
      " 'orphanet.bio2rdf.org' 'omim.bio2rdf.org' 'irefindex.bio2rdf.org'\n",
      " 'affymetrix.bio2rdf.org' 'genage.bio2rdf.org' 'download.bio2rdf.org' nan\n",
      " 'b.bio2rdf.org' 'gene.bio2rdf.org']\n"
     ]
    }
   ],
   "source": [
    "print(df['domain'].unique())"
   ]
  },
  {
   "cell_type": "code",
   "execution_count": 36,
   "id": "321abf62-2333-4f2e-9603-e6f22b4eac49",
   "metadata": {},
   "outputs": [
    {
     "data": {
      "text/plain": [
       "5963538"
      ]
     },
     "execution_count": 36,
     "metadata": {},
     "output_type": "execute_result"
    }
   ],
   "source": [
    "import requests\n",
    "\n",
    "URL = \"https://analytics.wikimedia.org/datasets/one-off/wikidata/sparql_query_logs/2017-06-12_2017-07-09/2017-06-12_2017-07-09_organic.tsv.gz\"\n",
    "response = requests.get(URL)\n",
    "open(\"wiki-first-organic.tsv\", \"wb\").write(response.content)\n"
   ]
  },
  {
   "cell_type": "code",
   "execution_count": 94,
   "id": "decb4f54-3f53-4c8a-84fe-5ccf152be1c6",
   "metadata": {},
   "outputs": [
    {
     "data": {
      "text/plain": [
       "118494"
      ]
     },
     "execution_count": 94,
     "metadata": {},
     "output_type": "execute_result"
    }
   ],
   "source": [
    "\n",
    "# df=pd.read_csv('wiki-first-organic.tsv', delimiter='\\t')\n",
    "# df.head()\n",
    "df = pd.read_csv('2017-06-12_2017-07-09_organic.tsv', delimiter='\\t')\n",
    "df.head()\n",
    "df['anonymizedQuery'][0]\n",
    "len(df)"
   ]
  },
  {
   "cell_type": "code",
   "execution_count": 73,
   "id": "cfc265e4-a96f-4fd6-97c4-1d4544c65ff1",
   "metadata": {},
   "outputs": [],
   "source": [
    "df = pd.read_csv(r'bio2rdf-processed.csv')\n",
    "\n",
    "df.to_csv('all-bio2rdf-processed.tsv', sep='\\t', encoding='utf-8', index=False)"
   ]
  },
  {
   "cell_type": "code",
   "execution_count": 74,
   "id": "35a6c44d-a9d8-4416-b9dc-5df216da5b57",
   "metadata": {},
   "outputs": [
    {
     "data": {
      "text/plain": [
       "'CONSTRUCT { ?s ?p ?o . } WHERE { SERVICE <http://bio2rdf.org/sparql> { ?s ?p ?o . } } LIMIT 1'"
      ]
     },
     "execution_count": 74,
     "metadata": {},
     "output_type": "execute_result"
    }
   ],
   "source": [
    "df = pd.read_csv('all-bio2rdf-processed.tsv', delimiter='\\t',\n",
    "                 lineterminator='\\n')\n",
    "df['query'][0]"
   ]
  },
  {
   "cell_type": "code",
   "execution_count": 75,
   "id": "2e95f1c9-d697-4425-adad-86a741667925",
   "metadata": {},
   "outputs": [],
   "source": [
    "import gzip\n",
    "\n",
    "with open(\"all-bio2rdf-processed.tsv\", 'rb') as orig_file:\n",
    "    with gzip.open(\"all-bio2rdf-processed.tsv.gz\", 'wb') as zipped_file:\n",
    "        zipped_file.writelines(orig_file)"
   ]
  },
  {
   "cell_type": "code",
   "execution_count": null,
   "id": "8026a352-4b6b-4859-921c-29ac23d33870",
   "metadata": {},
   "outputs": [],
   "source": [
    "import gzip\n",
    "\n",
    "with open(\"all-bio2rdf-processed.tsv\", 'rb') as orig_file:\n",
    "    with gzip.open(\"all-bio2rdf-processed.tsv.gz\", 'wb') as zipped_file:\n",
    "        zipped_file.writelines(orig_file)\n",
    "        reallall-bio2rdf-processed.tsv"
   ]
  },
  {
   "cell_type": "code",
   "execution_count": 143,
   "id": "8022390f-7bea-480b-8d13-d0cdf7aca4b6",
   "metadata": {},
   "outputs": [
    {
     "name": "stdout",
     "output_type": "stream",
     "text": [
      "hi\n"
     ]
    }
   ],
   "source": [
    "import gzip\n",
    "\n",
    "with open(\"results/reallall-bio2rdf-processed.tsv\", 'rb') as orig_file:\n",
    "    with gzip.open(\"results/reallall-bio2rdf-processed.tsv.gz\", 'wb') as zipped_file:\n",
    "        zipped_file.writelines(orig_file)\n",
    "print(\"hi\")"
   ]
  },
  {
   "attachments": {},
   "cell_type": "markdown",
   "id": "d1284484",
   "metadata": {},
   "source": [
    "Remove all queries that have \"http://nonsensical.com\""
   ]
  },
  {
   "cell_type": "code",
   "execution_count": 18,
   "id": "47e85800-ba9c-43e9-8b87-86c5342ffd37",
   "metadata": {},
   "outputs": [
    {
     "name": "stdout",
     "output_type": "stream",
     "text": [
      "477643\n"
     ]
    }
   ],
   "source": [
    "count = 0\n",
    "with open(\"bio2rdf-processed.csv\", \"r\") as f:\n",
    "    s = f.readlines()\n",
    "    for x in s:\n",
    "        if x.__contains__(\"http://nonsensical\"):\n",
    "            count = count + 1\n",
    "#            \n",
    "    print(count)\n",
    "    f.close()"
   ]
  },
  {
   "cell_type": "code",
   "execution_count": 2,
   "id": "acc3ef0e-cd99-4cec-b4a0-dad455e6a487",
   "metadata": {},
   "outputs": [
    {
     "data": {
      "text/plain": [
       "118494"
      ]
     },
     "execution_count": 2,
     "metadata": {},
     "output_type": "execute_result"
    }
   ],
   "source": [
    "import pandas as pd\n",
    "df1=pd.read_csv('bio2rdf-processed_drugbank.bio2rdf.org.csv')\n",
    "len(df1)\n"
   ]
  },
  {
   "cell_type": "code",
   "execution_count": 9,
   "id": "1b1b08ac-d7f2-4517-a784-37ee7458e3aa",
   "metadata": {},
   "outputs": [],
   "source": [
    "df= df1[~df1['query'].str.contains('http://nonsensical.com')]\n"
   ]
  },
  {
   "cell_type": "code",
   "execution_count": 10,
   "id": "f2c933e0-39bc-461d-9e73-4f7b24490e00",
   "metadata": {},
   "outputs": [
    {
     "data": {
      "text/plain": [
       "101654"
      ]
     },
     "execution_count": 10,
     "metadata": {},
     "output_type": "execute_result"
    }
   ],
   "source": [
    "len(df)"
   ]
  },
  {
   "cell_type": "code",
   "execution_count": 11,
   "id": "fc354b4b-192c-4548-a1a7-b487d7efb300",
   "metadata": {},
   "outputs": [
    {
     "data": {
      "text/plain": [
       "0"
      ]
     },
     "execution_count": 11,
     "metadata": {},
     "output_type": "execute_result"
    }
   ],
   "source": [
    "len(df[df['query'].str.contains('http://nonsensical.com')])"
   ]
  },
  {
   "cell_type": "code",
   "execution_count": 15,
   "id": "9f78a9f0-0a5b-4a09-a2e3-5413edad1878",
   "metadata": {},
   "outputs": [],
   "source": [
    "df.to_csv('non-drugbank.csv', index=False)\n"
   ]
  },
  {
   "cell_type": "code",
   "execution_count": 17,
   "id": "f45b9c32-6c7a-45ac-924d-631f601a2800",
   "metadata": {},
   "outputs": [
    {
     "data": {
      "text/plain": [
       "101654"
      ]
     },
     "execution_count": 17,
     "metadata": {},
     "output_type": "execute_result"
    }
   ],
   "source": [
    "import pandas as pd\n",
    "df1=pd.read_csv('non-drugbank.csv')\n",
    "df1.head()\n",
    "len(df1)"
   ]
  },
  {
   "cell_type": "code",
   "execution_count": 18,
   "id": "725f3650-3181-407e-9c7f-d352af679575",
   "metadata": {},
   "outputs": [
    {
     "name": "stderr",
     "output_type": "stream",
     "text": [
      "/opt/conda/lib/python3.8/site-packages/IPython/core/interactiveshell.py:3169: DtypeWarning: Columns (1,2,3) have mixed types.Specify dtype option on import or set low_memory=False.\n",
      "  has_raised = await self.run_ast_nodes(code_ast.body, cell_name,\n"
     ]
    },
    {
     "data": {
      "text/plain": [
       "6522697"
      ]
     },
     "execution_count": 18,
     "metadata": {},
     "output_type": "execute_result"
    }
   ],
   "source": [
    "import pandas as pd\n",
    "df1=pd.read_csv('bio2rdf-processed.csv')\n",
    "len(df1)"
   ]
  },
  {
   "cell_type": "code",
   "execution_count": 19,
   "id": "825f8091-fa98-4b33-a9c7-01ef02e8d413",
   "metadata": {},
   "outputs": [],
   "source": [
    "df= df1[~df1['query'].str.contains('http://nonsensical.com')]"
   ]
  },
  {
   "cell_type": "code",
   "execution_count": 20,
   "id": "74902f42-bad2-4ee8-a67b-b8a9031034c9",
   "metadata": {},
   "outputs": [
    {
     "data": {
      "text/plain": [
       "6050355"
      ]
     },
     "execution_count": 20,
     "metadata": {},
     "output_type": "execute_result"
    }
   ],
   "source": [
    "len(df)"
   ]
  },
  {
   "cell_type": "code",
   "execution_count": 21,
   "id": "965d3466-d61d-4c4b-a15e-7c9af8205076",
   "metadata": {},
   "outputs": [
    {
     "data": {
      "text/plain": [
       "0"
      ]
     },
     "execution_count": 21,
     "metadata": {},
     "output_type": "execute_result"
    }
   ],
   "source": [
    "len(df[df['query'].str.contains('http://nonsensical.com')])"
   ]
  },
  {
   "cell_type": "code",
   "execution_count": 22,
   "id": "5006ee9f-0b83-4d37-af76-a45053941091",
   "metadata": {},
   "outputs": [],
   "source": [
    "df.to_csv('nonsen-all-bio.csv', index=False)"
   ]
  },
  {
   "cell_type": "code",
   "execution_count": 23,
   "id": "02aaa846-e3b1-4eb8-a0d0-29d6152963bb",
   "metadata": {},
   "outputs": [
    {
     "data": {
      "text/plain": [
       "6050355"
      ]
     },
     "execution_count": 23,
     "metadata": {},
     "output_type": "execute_result"
    }
   ],
   "source": [
    "import pandas as pd\n",
    "df1=pd.read_csv('nonsen-all-bio.csv')\n",
    "df1.head()\n",
    "len(df1)"
   ]
  },
  {
   "cell_type": "code",
   "execution_count": 25,
   "id": "7d2889b1-1664-407c-843f-22b0e3fd5f87",
   "metadata": {},
   "outputs": [
    {
     "data": {
      "text/plain": [
       "0"
      ]
     },
     "execution_count": 25,
     "metadata": {},
     "output_type": "execute_result"
    }
   ],
   "source": [
    "df['query'].isnull().sum()"
   ]
  },
  {
   "cell_type": "code",
   "execution_count": 24,
   "id": "d8c7724f-2644-44df-8e76-675f3bf7f59e",
   "metadata": {},
   "outputs": [
    {
     "data": {
      "text/html": [
       "<div>\n",
       "<style scoped>\n",
       "    .dataframe tbody tr th:only-of-type {\n",
       "        vertical-align: middle;\n",
       "    }\n",
       "\n",
       "    .dataframe tbody tr th {\n",
       "        vertical-align: top;\n",
       "    }\n",
       "\n",
       "    .dataframe thead th {\n",
       "        text-align: right;\n",
       "    }\n",
       "</style>\n",
       "<table border=\"1\" class=\"dataframe\">\n",
       "  <thead>\n",
       "    <tr style=\"text-align: right;\">\n",
       "      <th></th>\n",
       "      <th>query</th>\n",
       "      <th>domain</th>\n",
       "      <th>agent</th>\n",
       "      <th>timestamp</th>\n",
       "    </tr>\n",
       "  </thead>\n",
       "  <tbody>\n",
       "    <tr>\n",
       "      <th>0</th>\n",
       "      <td>CONSTRUCT { ?s ?p ?o . } WHERE { SERVICE &lt;http...</td>\n",
       "      <td>bio2rdf.org</td>\n",
       "      <td>Umaka-Crawler/1.0.0 by DBCLS (umakadata@dbcls.jp)</td>\n",
       "      <td>2020-03-11T06:13:19.227Z</td>\n",
       "    </tr>\n",
       "    <tr>\n",
       "      <th>1</th>\n",
       "      <td>SELECT DISTINCT ?prefix WHERE { { SELECT DISTI...</td>\n",
       "      <td>bio2rdf.org</td>\n",
       "      <td>Umaka-Crawler/1.0.0 by DBCLS (umakadata@dbcls.jp)</td>\n",
       "      <td>2020-03-11T06:18:36.078Z</td>\n",
       "    </tr>\n",
       "    <tr>\n",
       "      <th>2</th>\n",
       "      <td>select * where {[] a ?Concept} LIMIT 100&amp;forma...</td>\n",
       "      <td>bio2rdf.org</td>\n",
       "      <td>Mozilla/5.0 (Windows NT 6.3; Win64; x64) Apple...</td>\n",
       "      <td>2020-03-11T13:48:04.625Z</td>\n",
       "    </tr>\n",
       "    <tr>\n",
       "      <th>3</th>\n",
       "      <td>With the advantages of utilizing a job recruit...</td>\n",
       "      <td>bio2rdf.org</td>\n",
       "      <td>Mozilla/5.0 (Windows NT 10.0; WOW64) AppleWebK...</td>\n",
       "      <td>2021-04-20T10:18:11.078Z</td>\n",
       "    </tr>\n",
       "    <tr>\n",
       "      <th>4</th>\n",
       "      <td>With the advantages of utilizing a job recruit...</td>\n",
       "      <td>bio2rdf.org</td>\n",
       "      <td>Mozilla/5.0 (Windows NT 10.0; WOW64) AppleWebK...</td>\n",
       "      <td>2021-04-20T10:18:11.132Z</td>\n",
       "    </tr>\n",
       "  </tbody>\n",
       "</table>\n",
       "</div>"
      ],
      "text/plain": [
       "                                               query       domain  \\\n",
       "0  CONSTRUCT { ?s ?p ?o . } WHERE { SERVICE <http...  bio2rdf.org   \n",
       "1  SELECT DISTINCT ?prefix WHERE { { SELECT DISTI...  bio2rdf.org   \n",
       "2  select * where {[] a ?Concept} LIMIT 100&forma...  bio2rdf.org   \n",
       "3  With the advantages of utilizing a job recruit...  bio2rdf.org   \n",
       "4  With the advantages of utilizing a job recruit...  bio2rdf.org   \n",
       "\n",
       "                                               agent                 timestamp  \n",
       "0  Umaka-Crawler/1.0.0 by DBCLS (umakadata@dbcls.jp)  2020-03-11T06:13:19.227Z  \n",
       "1  Umaka-Crawler/1.0.0 by DBCLS (umakadata@dbcls.jp)  2020-03-11T06:18:36.078Z  \n",
       "2  Mozilla/5.0 (Windows NT 6.3; Win64; x64) Apple...  2020-03-11T13:48:04.625Z  \n",
       "3  Mozilla/5.0 (Windows NT 10.0; WOW64) AppleWebK...  2021-04-20T10:18:11.078Z  \n",
       "4  Mozilla/5.0 (Windows NT 10.0; WOW64) AppleWebK...  2021-04-20T10:18:11.132Z  "
      ]
     },
     "execution_count": 24,
     "metadata": {},
     "output_type": "execute_result"
    }
   ],
   "source": [
    "df1.head()"
   ]
  },
  {
   "cell_type": "code",
   "execution_count": 30,
   "id": "33731531-da1c-4589-84f7-d37c6abcd72f",
   "metadata": {},
   "outputs": [],
   "source": [
    "import gzip\n",
    "\n",
    "with open(\"results/nonsen-all-bio.tsv\", 'rb') as orig_file:\n",
    "    with gzip.open(\"nonsen-all-bio.tsv.gz\", 'wb') as zipped_file:\n",
    "        zipped_file.writelines(orig_file)"
   ]
  },
  {
   "cell_type": "code",
   "execution_count": 2,
   "id": "e181a733-8259-492b-8197-7cddef46c59b",
   "metadata": {},
   "outputs": [
    {
     "name": "stdout",
     "output_type": "stream",
     "text": [
      "26021\n"
     ]
    }
   ],
   "source": [
    "count = 0\n",
    "with open(\"nonsen-all-bio.csv\", \"r\") as f:\n",
    "    s = f.readlines()\n",
    "    for x in s:\n",
    "        if x.__contains__(\"VALUES\"):\n",
    "            count = count + 1\n",
    "#             print(x)\n",
    "#             start = x.find(\"VALUES\") + len(\"VALUES\")\n",
    "#             end = x.find(\"^^\")\n",
    "\n",
    "#             substring = x[start:end] \n",
    "#         if x.__contains__(\"Influence Definition\"):\n",
    "#             start = x.find(\"Influence Definition: \") + len(\"Influence Definition: \")\n",
    "#             end = x.find(\"Evidence Number of meta-analyses:\")\n",
    "#             substring += x[start:end]\n",
    "#             print(substring)\n",
    "#             print()\n",
    "    print(count)\n",
    "    f.close()"
   ]
  },
  {
   "cell_type": "code",
   "execution_count": 2,
   "id": "88ae26db-b1b7-4e81-9d72-d29af5aefba9",
   "metadata": {},
   "outputs": [
    {
     "name": "stderr",
     "output_type": "stream",
     "text": [
      "/opt/conda/lib/python3.8/site-packages/IPython/core/interactiveshell.py:3169: DtypeWarning: Columns (1,2,3) have mixed types.Specify dtype option on import or set low_memory=False.\n",
      "  has_raised = await self.run_ast_nodes(code_ast.body, cell_name,\n"
     ]
    },
    {
     "data": {
      "text/plain": [
       "6050355"
      ]
     },
     "execution_count": 2,
     "metadata": {},
     "output_type": "execute_result"
    }
   ],
   "source": [
    "import pandas as pd\n",
    "df1= pd.read_csv('nonsen-all-bio.csv')\n",
    "len(df1)"
   ]
  },
  {
   "cell_type": "code",
   "execution_count": 3,
   "id": "795971b1-0e58-4102-b308-6cdea99c236b",
   "metadata": {},
   "outputs": [
    {
     "data": {
      "text/plain": [
       "26021"
      ]
     },
     "execution_count": 3,
     "metadata": {},
     "output_type": "execute_result"
    }
   ],
   "source": [
    "df= df1[df1['query'].str.contains('VALUES')]\n",
    "len(df)"
   ]
  },
  {
   "cell_type": "code",
   "execution_count": 10,
   "id": "c8be2ca6-d876-4454-9b06-5c4bc5346570",
   "metadata": {},
   "outputs": [
    {
     "name": "stdout",
     "output_type": "stream",
     "text": [
      "Series([], Name: query, dtype: object)\n"
     ]
    }
   ],
   "source": [
    "type(df)\n",
    "print(df.loc[0:9,\"query\"])\n"
   ]
  },
  {
   "cell_type": "code",
   "execution_count": 12,
   "id": "937f5642-986b-4cca-9d66-a054b0c3eac7",
   "metadata": {},
   "outputs": [
    {
     "name": "stdout",
     "output_type": "stream",
     "text": [
      "1\n"
     ]
    }
   ],
   "source": [
    "count=0\n",
    "for x in df.iloc[:,0]:\n",
    "    if x.__contains__(\"VALUES\"):\n",
    "       \n",
    "       start = x.find(\"VALUES\") \n",
    "       end = x.find(\" } \")\n",
    "       substring = x[start:end+3]\n",
    "       \n",
    "#        print(substring)\n",
    "       count = count + 1\n",
    "       x= x.replace(substring, '')\n",
    "#        print(y) \n",
    "    \n",
    "print(count)"
   ]
  },
  {
   "cell_type": "code",
   "execution_count": 109,
   "id": "890b2cb8-8d81-40a5-8056-82b41faec70b",
   "metadata": {},
   "outputs": [
    {
     "data": {
      "text/html": [
       "<div>\n",
       "<style scoped>\n",
       "    .dataframe tbody tr th:only-of-type {\n",
       "        vertical-align: middle;\n",
       "    }\n",
       "\n",
       "    .dataframe tbody tr th {\n",
       "        vertical-align: top;\n",
       "    }\n",
       "\n",
       "    .dataframe thead th {\n",
       "        text-align: right;\n",
       "    }\n",
       "</style>\n",
       "<table border=\"1\" class=\"dataframe\">\n",
       "  <thead>\n",
       "    <tr style=\"text-align: right;\">\n",
       "      <th></th>\n",
       "      <th>query</th>\n",
       "      <th>domain</th>\n",
       "      <th>agent</th>\n",
       "      <th>timestamp</th>\n",
       "    </tr>\n",
       "  </thead>\n",
       "  <tbody>\n",
       "    <tr>\n",
       "      <th>0</th>\n",
       "      <td>SELECT  (count(*) AS ?c_1)\\r\\nWHERE\\r\\n  { SEL...</td>\n",
       "      <td>irefindex.bio2rdf.org</td>\n",
       "      <td>Apache-Jena-ARQ/3.16.0</td>\n",
       "      <td>2020-10-19T15:38:06.778Z</td>\n",
       "    </tr>\n",
       "    <tr>\n",
       "      <th>1</th>\n",
       "      <td>SELECT ?foundUri ?foundLabel WHERE {\\r\\n      ...</td>\n",
       "      <td>bio2rdf.org</td>\n",
       "      <td>Mozilla/5.0 (X11; Ubuntu; Linux x86_64; rv:84....</td>\n",
       "      <td>2021-01-06T09:19:24.048Z</td>\n",
       "    </tr>\n",
       "    <tr>\n",
       "      <th>2</th>\n",
       "      <td>SELECT ?foundUri ?foundLabel WHERE {\\r\\n      ...</td>\n",
       "      <td>bio2rdf.org</td>\n",
       "      <td>Mozilla/5.0 (X11; Ubuntu; Linux x86_64; rv:84....</td>\n",
       "      <td>2021-01-06T17:45:53.500Z</td>\n",
       "    </tr>\n",
       "    <tr>\n",
       "      <th>3</th>\n",
       "      <td>SELECT  (count(*) AS ?c_1)\\r\\nWHERE\\r\\n  { SEL...</td>\n",
       "      <td>irefindex.bio2rdf.org</td>\n",
       "      <td>Apache-Jena-ARQ/3.16.0</td>\n",
       "      <td>2020-10-19T15:38:06.778Z</td>\n",
       "    </tr>\n",
       "  </tbody>\n",
       "</table>\n",
       "</div>"
      ],
      "text/plain": [
       "                                               query                 domain  \\\n",
       "0  SELECT  (count(*) AS ?c_1)\\r\\nWHERE\\r\\n  { SEL...  irefindex.bio2rdf.org   \n",
       "1  SELECT ?foundUri ?foundLabel WHERE {\\r\\n      ...            bio2rdf.org   \n",
       "2  SELECT ?foundUri ?foundLabel WHERE {\\r\\n      ...            bio2rdf.org   \n",
       "3  SELECT  (count(*) AS ?c_1)\\r\\nWHERE\\r\\n  { SEL...  irefindex.bio2rdf.org   \n",
       "\n",
       "                                               agent                 timestamp  \n",
       "0                             Apache-Jena-ARQ/3.16.0  2020-10-19T15:38:06.778Z  \n",
       "1  Mozilla/5.0 (X11; Ubuntu; Linux x86_64; rv:84....  2021-01-06T09:19:24.048Z  \n",
       "2  Mozilla/5.0 (X11; Ubuntu; Linux x86_64; rv:84....  2021-01-06T17:45:53.500Z  \n",
       "3                             Apache-Jena-ARQ/3.16.0  2020-10-19T15:38:06.778Z  "
      ]
     },
     "execution_count": 109,
     "metadata": {},
     "output_type": "execute_result"
    }
   ],
   "source": [
    "import pandas as pd\n",
    "df1 = pd.read_csv('testval.txt')\n",
    "df1.head()"
   ]
  },
  {
   "cell_type": "code",
   "execution_count": 111,
   "id": "a4932ca0-2ec8-4d4f-a0e8-b68b04705b56",
   "metadata": {},
   "outputs": [
    {
     "name": "stdout",
     "output_type": "stream",
     "text": [
      "0\n",
      "1\n",
      "2\n",
      "3\n",
      "0\n"
     ]
    }
   ],
   "source": [
    "count = 0\n",
    "\n",
    "for x in range((df1.shape[0])):\n",
    "    print(x)\n",
    "    if df1['query'][x].__contains__(\"VALUES\"):\n",
    "#        print(df1['query'][x])\n",
    "       start = df1['query'][x].find(\"VALUES\") \n",
    "       print(start)\n",
    "       end = df1['query'][x].find(\"}\", start)\n",
    "       print(end)\n",
    "       substring =  df1['query'][x][start:end+3]\n",
    "       \n",
    "       print('hi',substring)\n",
    "       count = count + 1\n",
    "        \n",
    "       df1['query'][x] = df1['query'][x].replace(substring , '')\n",
    "     \n",
    "    \n",
    "print(count)"
   ]
  },
  {
   "cell_type": "code",
   "execution_count": 112,
   "id": "a7901da9-376f-409d-95ae-ca3882fad7ad",
   "metadata": {},
   "outputs": [
    {
     "name": "stderr",
     "output_type": "stream",
     "text": [
      "/opt/conda/lib/python3.8/site-packages/IPython/core/interactiveshell.py:3169: DtypeWarning: Columns (1,2,3) have mixed types.Specify dtype option on import or set low_memory=False.\n",
      "  has_raised = await self.run_ast_nodes(code_ast.body, cell_name,\n"
     ]
    },
    {
     "data": {
      "text/html": [
       "<div>\n",
       "<style scoped>\n",
       "    .dataframe tbody tr th:only-of-type {\n",
       "        vertical-align: middle;\n",
       "    }\n",
       "\n",
       "    .dataframe tbody tr th {\n",
       "        vertical-align: top;\n",
       "    }\n",
       "\n",
       "    .dataframe thead th {\n",
       "        text-align: right;\n",
       "    }\n",
       "</style>\n",
       "<table border=\"1\" class=\"dataframe\">\n",
       "  <thead>\n",
       "    <tr style=\"text-align: right;\">\n",
       "      <th></th>\n",
       "      <th>query</th>\n",
       "      <th>domain</th>\n",
       "      <th>agent</th>\n",
       "      <th>timestamp</th>\n",
       "    </tr>\n",
       "  </thead>\n",
       "  <tbody>\n",
       "    <tr>\n",
       "      <th>0</th>\n",
       "      <td>CONSTRUCT { ?s ?p ?o . } WHERE { SERVICE &lt;http...</td>\n",
       "      <td>bio2rdf.org</td>\n",
       "      <td>Umaka-Crawler/1.0.0 by DBCLS (umakadata@dbcls.jp)</td>\n",
       "      <td>2020-03-11T06:13:19.227Z</td>\n",
       "    </tr>\n",
       "    <tr>\n",
       "      <th>1</th>\n",
       "      <td>SELECT DISTINCT ?prefix WHERE { { SELECT DISTI...</td>\n",
       "      <td>bio2rdf.org</td>\n",
       "      <td>Umaka-Crawler/1.0.0 by DBCLS (umakadata@dbcls.jp)</td>\n",
       "      <td>2020-03-11T06:18:36.078Z</td>\n",
       "    </tr>\n",
       "    <tr>\n",
       "      <th>2</th>\n",
       "      <td>select * where {[] a ?Concept} LIMIT 100&amp;forma...</td>\n",
       "      <td>bio2rdf.org</td>\n",
       "      <td>Mozilla/5.0 (Windows NT 6.3; Win64; x64) Apple...</td>\n",
       "      <td>2020-03-11T13:48:04.625Z</td>\n",
       "    </tr>\n",
       "    <tr>\n",
       "      <th>3</th>\n",
       "      <td>With the advantages of utilizing a job recruit...</td>\n",
       "      <td>bio2rdf.org</td>\n",
       "      <td>Mozilla/5.0 (Windows NT 10.0; WOW64) AppleWebK...</td>\n",
       "      <td>2021-04-20T10:18:11.078Z</td>\n",
       "    </tr>\n",
       "    <tr>\n",
       "      <th>4</th>\n",
       "      <td>With the advantages of utilizing a job recruit...</td>\n",
       "      <td>bio2rdf.org</td>\n",
       "      <td>Mozilla/5.0 (Windows NT 10.0; WOW64) AppleWebK...</td>\n",
       "      <td>2021-04-20T10:18:11.132Z</td>\n",
       "    </tr>\n",
       "  </tbody>\n",
       "</table>\n",
       "</div>"
      ],
      "text/plain": [
       "                                               query       domain  \\\n",
       "0  CONSTRUCT { ?s ?p ?o . } WHERE { SERVICE <http...  bio2rdf.org   \n",
       "1  SELECT DISTINCT ?prefix WHERE { { SELECT DISTI...  bio2rdf.org   \n",
       "2  select * where {[] a ?Concept} LIMIT 100&forma...  bio2rdf.org   \n",
       "3  With the advantages of utilizing a job recruit...  bio2rdf.org   \n",
       "4  With the advantages of utilizing a job recruit...  bio2rdf.org   \n",
       "\n",
       "                                               agent                 timestamp  \n",
       "0  Umaka-Crawler/1.0.0 by DBCLS (umakadata@dbcls.jp)  2020-03-11T06:13:19.227Z  \n",
       "1  Umaka-Crawler/1.0.0 by DBCLS (umakadata@dbcls.jp)  2020-03-11T06:18:36.078Z  \n",
       "2  Mozilla/5.0 (Windows NT 6.3; Win64; x64) Apple...  2020-03-11T13:48:04.625Z  \n",
       "3  Mozilla/5.0 (Windows NT 10.0; WOW64) AppleWebK...  2021-04-20T10:18:11.078Z  \n",
       "4  Mozilla/5.0 (Windows NT 10.0; WOW64) AppleWebK...  2021-04-20T10:18:11.132Z  "
      ]
     },
     "execution_count": 112,
     "metadata": {},
     "output_type": "execute_result"
    }
   ],
   "source": [
    "import pandas as pd\n",
    "df1 = pd.read_csv('nonsen-all-bio.csv')\n",
    "df1.head()"
   ]
  },
  {
   "cell_type": "code",
   "execution_count": 113,
   "id": "458b2146-192a-45bc-bed3-eab6d1e227b4",
   "metadata": {},
   "outputs": [
    {
     "name": "stdout",
     "output_type": "stream",
     "text": [
      "26021\n"
     ]
    }
   ],
   "source": [
    "count = 0\n",
    "\n",
    "for x in range((df1.shape[0])):\n",
    "    \n",
    "    if df1['query'][x].__contains__(\"VALUES\"):\n",
    "#        \n",
    "       start = df1['query'][x].find(\"VALUES\") \n",
    "#        print(start)\n",
    "       end = df1['query'][x].find(\"}\", start)\n",
    "#        print(end)\n",
    "       substring =  df1['query'][x][start:end+3]\n",
    "       \n",
    "#        print('hi',substring)\n",
    "\n",
    "       count = count + 1\n",
    "    \n",
    "       df1['query'][x] = df1['query'][x].replace(substring , '')\n",
    "\n",
    "    \n",
    "print(count)"
   ]
  },
  {
   "cell_type": "code",
   "execution_count": 114,
   "id": "dc0c1583-83cd-4ddf-8cfd-348a939fd9f8",
   "metadata": {},
   "outputs": [],
   "source": [
    "df1.to_csv('values-nonsen-all-bio.csv', index=False)"
   ]
  },
  {
   "cell_type": "code",
   "execution_count": 115,
   "id": "7aad762c-943d-41dc-b645-88cd0be96bb0",
   "metadata": {},
   "outputs": [
    {
     "name": "stderr",
     "output_type": "stream",
     "text": [
      "/opt/conda/lib/python3.8/site-packages/IPython/core/interactiveshell.py:3169: DtypeWarning: Columns (1,2,3) have mixed types.Specify dtype option on import or set low_memory=False.\n",
      "  has_raised = await self.run_ast_nodes(code_ast.body, cell_name,\n"
     ]
    },
    {
     "data": {
      "text/html": [
       "<div>\n",
       "<style scoped>\n",
       "    .dataframe tbody tr th:only-of-type {\n",
       "        vertical-align: middle;\n",
       "    }\n",
       "\n",
       "    .dataframe tbody tr th {\n",
       "        vertical-align: top;\n",
       "    }\n",
       "\n",
       "    .dataframe thead th {\n",
       "        text-align: right;\n",
       "    }\n",
       "</style>\n",
       "<table border=\"1\" class=\"dataframe\">\n",
       "  <thead>\n",
       "    <tr style=\"text-align: right;\">\n",
       "      <th></th>\n",
       "      <th>query</th>\n",
       "      <th>domain</th>\n",
       "      <th>agent</th>\n",
       "      <th>timestamp</th>\n",
       "    </tr>\n",
       "  </thead>\n",
       "  <tbody>\n",
       "    <tr>\n",
       "      <th>0</th>\n",
       "      <td>CONSTRUCT { ?s ?p ?o . } WHERE { SERVICE &lt;http...</td>\n",
       "      <td>bio2rdf.org</td>\n",
       "      <td>Umaka-Crawler/1.0.0 by DBCLS (umakadata@dbcls.jp)</td>\n",
       "      <td>2020-03-11T06:13:19.227Z</td>\n",
       "    </tr>\n",
       "    <tr>\n",
       "      <th>1</th>\n",
       "      <td>SELECT DISTINCT ?prefix WHERE { { SELECT DISTI...</td>\n",
       "      <td>bio2rdf.org</td>\n",
       "      <td>Umaka-Crawler/1.0.0 by DBCLS (umakadata@dbcls.jp)</td>\n",
       "      <td>2020-03-11T06:18:36.078Z</td>\n",
       "    </tr>\n",
       "    <tr>\n",
       "      <th>2</th>\n",
       "      <td>select * where {[] a ?Concept} LIMIT 100&amp;forma...</td>\n",
       "      <td>bio2rdf.org</td>\n",
       "      <td>Mozilla/5.0 (Windows NT 6.3; Win64; x64) Apple...</td>\n",
       "      <td>2020-03-11T13:48:04.625Z</td>\n",
       "    </tr>\n",
       "    <tr>\n",
       "      <th>3</th>\n",
       "      <td>With the advantages of utilizing a job recruit...</td>\n",
       "      <td>bio2rdf.org</td>\n",
       "      <td>Mozilla/5.0 (Windows NT 10.0; WOW64) AppleWebK...</td>\n",
       "      <td>2021-04-20T10:18:11.078Z</td>\n",
       "    </tr>\n",
       "    <tr>\n",
       "      <th>4</th>\n",
       "      <td>With the advantages of utilizing a job recruit...</td>\n",
       "      <td>bio2rdf.org</td>\n",
       "      <td>Mozilla/5.0 (Windows NT 10.0; WOW64) AppleWebK...</td>\n",
       "      <td>2021-04-20T10:18:11.132Z</td>\n",
       "    </tr>\n",
       "  </tbody>\n",
       "</table>\n",
       "</div>"
      ],
      "text/plain": [
       "                                               query       domain  \\\n",
       "0  CONSTRUCT { ?s ?p ?o . } WHERE { SERVICE <http...  bio2rdf.org   \n",
       "1  SELECT DISTINCT ?prefix WHERE { { SELECT DISTI...  bio2rdf.org   \n",
       "2  select * where {[] a ?Concept} LIMIT 100&forma...  bio2rdf.org   \n",
       "3  With the advantages of utilizing a job recruit...  bio2rdf.org   \n",
       "4  With the advantages of utilizing a job recruit...  bio2rdf.org   \n",
       "\n",
       "                                               agent                 timestamp  \n",
       "0  Umaka-Crawler/1.0.0 by DBCLS (umakadata@dbcls.jp)  2020-03-11T06:13:19.227Z  \n",
       "1  Umaka-Crawler/1.0.0 by DBCLS (umakadata@dbcls.jp)  2020-03-11T06:18:36.078Z  \n",
       "2  Mozilla/5.0 (Windows NT 6.3; Win64; x64) Apple...  2020-03-11T13:48:04.625Z  \n",
       "3  Mozilla/5.0 (Windows NT 10.0; WOW64) AppleWebK...  2021-04-20T10:18:11.078Z  \n",
       "4  Mozilla/5.0 (Windows NT 10.0; WOW64) AppleWebK...  2021-04-20T10:18:11.132Z  "
      ]
     },
     "execution_count": 115,
     "metadata": {},
     "output_type": "execute_result"
    }
   ],
   "source": [
    "# to test no values exist\n",
    "import pandas as pd\n",
    "df1 = pd.read_csv('values-nonsen-all-bio.csv')\n",
    "df1.head()"
   ]
  },
  {
   "cell_type": "code",
   "execution_count": 116,
   "id": "5f34815b-8ebb-4112-aadf-019660ff0a19",
   "metadata": {},
   "outputs": [
    {
     "name": "stdout",
     "output_type": "stream",
     "text": [
      "0\n"
     ]
    }
   ],
   "source": [
    "count = 0\n",
    "\n",
    "for x in range((df1.shape[0])):\n",
    "    \n",
    "    if df1['query'][x].__contains__(\"VALUES\"):\n",
    "        count = count + 1\n",
    "print(count)"
   ]
  },
  {
   "cell_type": "code",
   "execution_count": 1,
   "id": "d56932e6-96e5-4577-adbb-211977115105",
   "metadata": {},
   "outputs": [],
   "source": [
    "import gzip\n",
    "\n",
    "with open(\"results/values-nonsen-all-bio.tsv\", 'rb') as orig_file:\n",
    "    with gzip.open(\"values-nonsen-all-bio.tsv.gz\", 'wb') as zipped_file:\n",
    "        zipped_file.writelines(orig_file)"
   ]
  },
  {
   "cell_type": "code",
   "execution_count": null,
   "id": "7ef8b9b2-b708-4c50-bbaf-47dc8438bde1",
   "metadata": {},
   "outputs": [],
   "source": []
  }
 ],
 "metadata": {
  "kernelspec": {
   "display_name": "Python 3",
   "language": "python",
   "name": "python3"
  },
  "language_info": {
   "codemirror_mode": {
    "name": "ipython",
    "version": 3
   },
   "file_extension": ".py",
   "mimetype": "text/x-python",
   "name": "python",
   "nbconvert_exporter": "python",
   "pygments_lexer": "ipython3",
   "version": "3.8.8"
  }
 },
 "nbformat": 4,
 "nbformat_minor": 5
}
